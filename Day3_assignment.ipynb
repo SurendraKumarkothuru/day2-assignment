{
  "nbformat": 4,
  "nbformat_minor": 0,
  "metadata": {
    "colab": {
      "name": "Day3_assignment.ipynb",
      "provenance": [],
      "authorship_tag": "ABX9TyPcfLFmNMJn0T3Id4CoLLj8",
      "include_colab_link": true
    },
    "kernelspec": {
      "name": "python3",
      "display_name": "Python 3"
    }
  },
  "cells": [
    {
      "cell_type": "markdown",
      "metadata": {
        "id": "view-in-github",
        "colab_type": "text"
      },
      "source": [
        "<a href=\"https://colab.research.google.com/github/SurendraKumarkothuru/day2-assignment/blob/main/Day3_assignment.ipynb\" target=\"_parent\"><img src=\"https://colab.research.google.com/assets/colab-badge.svg\" alt=\"Open In Colab\"/></a>"
      ]
    },
    {
      "cell_type": "code",
      "metadata": {
        "colab": {
          "base_uri": "https://localhost:8080/"
        },
        "id": "2N_cBuz_V875",
        "outputId": "e98f4102-b950-4f5a-a041-d47b5ec9a518"
      },
      "source": [
        "i=int(input())\r\n",
        "if i<=1000:\r\n",
        "  print(\"Safe to land\")\r\n",
        "elif i>1000 and i<=5000 :\r\n",
        "  print(\"Bring down to 1000\")\r\n",
        "else :\r\n",
        "  print(\"go around and try it later\")\r\n",
        "  "
      ],
      "execution_count": 4,
      "outputs": [
        {
          "output_type": "stream",
          "text": [
            "6500\n",
            "go around and try it later\n"
          ],
          "name": "stdout"
        }
      ]
    },
    {
      "cell_type": "code",
      "metadata": {
        "colab": {
          "base_uri": "https://localhost:8080/"
        },
        "id": "nIa3YaMXXGQ5",
        "outputId": "d6d0b9ec-0c19-43c4-c90d-ac77ff6a4007"
      },
      "source": [
        "i=int(input())\r\n",
        "if i<=1000:\r\n",
        "  print(\"Safe to land\")\r\n",
        "elif i>1000 and i<=5000 :\r\n",
        "  print(\"Bring down to 1000\")\r\n",
        "else :\r\n",
        "  print(\"go around and try it later\")"
      ],
      "execution_count": 5,
      "outputs": [
        {
          "output_type": "stream",
          "text": [
            "1000\n",
            "Safe to land\n"
          ],
          "name": "stdout"
        }
      ]
    },
    {
      "cell_type": "code",
      "metadata": {
        "colab": {
          "base_uri": "https://localhost:8080/"
        },
        "id": "suGzo77uXdzE",
        "outputId": "6cdaa2bf-22fb-49e5-d5a1-18318796ed1a"
      },
      "source": [
        "i=int(input())\r\n",
        "if i<=1000:\r\n",
        "  print(\"Safe to land\")\r\n",
        "elif i>1000 and i<=5000 :\r\n",
        "  print(\"Bring down to 1000\")\r\n",
        "else :\r\n",
        "  print(\"go around and try it later\")"
      ],
      "execution_count": 6,
      "outputs": [
        {
          "output_type": "stream",
          "text": [
            "4500\n",
            "Bring down to 1000\n"
          ],
          "name": "stdout"
        }
      ]
    },
    {
      "cell_type": "code",
      "metadata": {
        "id": "0lX_n47uV1sp"
      },
      "source": [
        ""
      ],
      "execution_count": null,
      "outputs": []
    }
  ]
}