{
  "nbformat": 4,
  "nbformat_minor": 0,
  "metadata": {
    "colab": {
      "name": "day-2 assignment.ipynb",
      "provenance": [],
      "authorship_tag": "ABX9TyPMTQzFTV8VKVyQRli/23ZF",
      "include_colab_link": true
    },
    "kernelspec": {
      "name": "python3",
      "display_name": "Python 3"
    }
  },
  "cells": [
    {
      "cell_type": "markdown",
      "metadata": {
        "id": "view-in-github",
        "colab_type": "text"
      },
      "source": [
        "<a href=\"https://colab.research.google.com/github/SurendraKumarkothuru/day2-assignment/blob/main/day_2_assignment.ipynb\" target=\"_parent\"><img src=\"https://colab.research.google.com/assets/colab-badge.svg\" alt=\"Open In Colab\"/></a>"
      ]
    },
    {
      "cell_type": "code",
      "metadata": {
        "id": "hw8V7QIlQlwF"
      },
      "source": [
        ""
      ],
      "execution_count": null,
      "outputs": []
    },
    {
      "cell_type": "code",
      "metadata": {
        "colab": {
          "base_uri": "https://localhost:8080/"
        },
        "id": "KF-jRciqQq4c",
        "outputId": "53cdfd64-2050-4707-9e0b-c801bc0eab6e"
      },
      "source": [
        "lst=[1,2,3,4,\"hello\",\"hi\"]\r\n",
        "\r\n",
        "lst.remove(\"hello\")\r\n",
        "lst"
      ],
      "execution_count": 5,
      "outputs": [
        {
          "output_type": "execute_result",
          "data": {
            "text/plain": [
              "[1, 2, 3, 4, 'hi']"
            ]
          },
          "metadata": {
            "tags": []
          },
          "execution_count": 5
        }
      ]
    },
    {
      "cell_type": "code",
      "metadata": {
        "colab": {
          "base_uri": "https://localhost:8080/"
        },
        "id": "mtPOqI1kTA3W",
        "outputId": "abcf9c33-b4ff-4ee3-9145-796b76b1bca4"
      },
      "source": [
        "lst=[5,6,8,1,6,7,10]\r\n",
        "lst.sort()\r\n",
        "lst"
      ],
      "execution_count": 7,
      "outputs": [
        {
          "output_type": "execute_result",
          "data": {
            "text/plain": [
              "[1, 5, 6, 6, 7, 8, 10]"
            ]
          },
          "metadata": {
            "tags": []
          },
          "execution_count": 7
        }
      ]
    },
    {
      "cell_type": "code",
      "metadata": {
        "colab": {
          "base_uri": "https://localhost:8080/"
        },
        "id": "EoXF6u9gUL1A",
        "outputId": "e02393f6-e6ff-42c5-c8ae-536c90f44521"
      },
      "source": [
        "lst=[1,2,3,4,\"hello\",\"hi\",9,9,1,2,3,9]\r\n",
        "lst.count(9)\r\n"
      ],
      "execution_count": 11,
      "outputs": [
        {
          "output_type": "execute_result",
          "data": {
            "text/plain": [
              "3"
            ]
          },
          "metadata": {
            "tags": []
          },
          "execution_count": 11
        }
      ]
    },
    {
      "cell_type": "code",
      "metadata": {
        "colab": {
          "base_uri": "https://localhost:8080/"
        },
        "id": "MDWbTUFOVyx2",
        "outputId": "6fa0e002-fa01-4154-b930-d3782569c35e"
      },
      "source": [
        "lst=[1,2,3,4,\"hello\",\"hi\"]\r\n",
        "lst.clear()\r\n",
        "lst"
      ],
      "execution_count": 13,
      "outputs": [
        {
          "output_type": "execute_result",
          "data": {
            "text/plain": [
              "[]"
            ]
          },
          "metadata": {
            "tags": []
          },
          "execution_count": 13
        }
      ]
    },
    {
      "cell_type": "code",
      "metadata": {
        "colab": {
          "base_uri": "https://localhost:8080/"
        },
        "id": "dreuNh46V7Js",
        "outputId": "0538087a-b8c5-4249-e25e-26a9a0770681"
      },
      "source": [
        "lst=[1,2,3,4,\"hello\",\"hi\"]\r\n",
        "fruits=[\"mango\",\"apple\",\"banana\"]\r\n",
        "lst.extend(fruits)\r\n",
        "lst"
      ],
      "execution_count": 15,
      "outputs": [
        {
          "output_type": "execute_result",
          "data": {
            "text/plain": [
              "[1, 2, 3, 4, 'hello', 'hi', 'mango', 'apple', 'banana']"
            ]
          },
          "metadata": {
            "tags": []
          },
          "execution_count": 15
        }
      ]
    },
    {
      "cell_type": "code",
      "metadata": {
        "colab": {
          "base_uri": "https://localhost:8080/"
        },
        "id": "ohbBidFLY0El",
        "outputId": "8527e9e1-ff92-47fc-97f4-2a42c54f46a5"
      },
      "source": [
        "d1={\"name\":\"suri\",\"age\":22}\r\n",
        "d1.items()\r\n",
        "d1"
      ],
      "execution_count": 20,
      "outputs": [
        {
          "output_type": "execute_result",
          "data": {
            "text/plain": [
              "{'age': 22, 'name': 'suri'}"
            ]
          },
          "metadata": {
            "tags": []
          },
          "execution_count": 20
        }
      ]
    },
    {
      "cell_type": "code",
      "metadata": {
        "colab": {
          "base_uri": "https://localhost:8080/"
        },
        "id": "hKX1qWgXXQb5",
        "outputId": "c8f137d7-bccc-497f-fb00-53ff502b5b03"
      },
      "source": [
        "d1={\"name\":\"suri\",\"age\":22}\r\n",
        "d1.clear()\r\n",
        "d1"
      ],
      "execution_count": 19,
      "outputs": [
        {
          "output_type": "execute_result",
          "data": {
            "text/plain": [
              "{}"
            ]
          },
          "metadata": {
            "tags": []
          },
          "execution_count": 19
        }
      ]
    },
    {
      "cell_type": "code",
      "metadata": {
        "colab": {
          "base_uri": "https://localhost:8080/"
        },
        "id": "etVUczvMZB_m",
        "outputId": "0d004554-8a8b-4c43-e0bd-5a9279457442"
      },
      "source": [
        "d1={\"name\":\"suri\",\"age\":22,\"loc\":\"ongole\"}\r\n",
        "d1.pop(\"name\")\r\n",
        "d1"
      ],
      "execution_count": 21,
      "outputs": [
        {
          "output_type": "execute_result",
          "data": {
            "text/plain": [
              "{'age': 22, 'loc': 'ongole'}"
            ]
          },
          "metadata": {
            "tags": []
          },
          "execution_count": 21
        }
      ]
    },
    {
      "cell_type": "code",
      "metadata": {
        "colab": {
          "base_uri": "https://localhost:8080/"
        },
        "id": "g4E8RdSNZUFf",
        "outputId": "08c1613a-384c-4c44-b322-8ca0f277c245"
      },
      "source": [
        "d1={\"name\":\"suri\",\"age\":22,\"loc\":\"ongole\"}\r\n",
        "d1.update({\"pincode\":523222})\r\n",
        "d1"
      ],
      "execution_count": 22,
      "outputs": [
        {
          "output_type": "execute_result",
          "data": {
            "text/plain": [
              "{'age': 22, 'loc': 'ongole', 'name': 'suri', 'pincode': 523222}"
            ]
          },
          "metadata": {
            "tags": []
          },
          "execution_count": 22
        }
      ]
    },
    {
      "cell_type": "code",
      "metadata": {
        "colab": {
          "base_uri": "https://localhost:8080/"
        },
        "id": "uqjgEnXQZuuK",
        "outputId": "38b910b0-2712-4cbf-f7b2-d0c47c5d2f8c"
      },
      "source": [
        "d1={\"name\":\"suri\",\"age\":22,\"loc\":\"ongole\"}\r\n",
        "d1.popitem()\r\n",
        "d1"
      ],
      "execution_count": 23,
      "outputs": [
        {
          "output_type": "execute_result",
          "data": {
            "text/plain": [
              "{'age': 22, 'name': 'suri'}"
            ]
          },
          "metadata": {
            "tags": []
          },
          "execution_count": 23
        }
      ]
    }
  ]
}